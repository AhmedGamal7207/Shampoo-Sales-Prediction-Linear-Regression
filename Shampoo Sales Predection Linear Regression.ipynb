{
  "nbformat": 4,
  "nbformat_minor": 0,
  "metadata": {
    "colab": {
      "provenance": []
    },
    "kernelspec": {
      "name": "python3",
      "display_name": "Python 3"
    },
    "language_info": {
      "name": "python"
    }
  },
  "cells": [
    {
      "cell_type": "markdown",
      "source": [
        "**Problem 1 ML Project**\n",
        "\n",
        "\n",
        "1.   Ahmed Gamal Ahmed - 20221459969\n",
        "2.   Moataz Saied Saleh - 20221465979\n",
        "3.   Mona Badr Mostafa - 2103111\n",
        "4.   Myar Hany Mohamed - 20221376556\n",
        "\n"
      ],
      "metadata": {
        "id": "rroHjQSskjjl"
      }
    },
    {
      "cell_type": "markdown",
      "source": [
        "importing libraries"
      ],
      "metadata": {
        "id": "XgNj74-jZ5p0"
      }
    },
    {
      "cell_type": "code",
      "execution_count": null,
      "metadata": {
        "id": "MbgWEer4T5FS"
      },
      "outputs": [],
      "source": [
        "# Used Packages\n",
        "import numpy as np\n",
        "import pandas as pd\n",
        "import matplotlib.pyplot as plt\n",
        "from sklearn.model_selection import train_test_split\n",
        "from sklearn.linear_model import LinearRegression\n",
        "from sklearn.impute import SimpleImputer\n",
        "from sklearn.preprocessing import LabelEncoder, OneHotEncoder\n",
        "from sklearn.metrics import mean_squared_error"
      ]
    },
    {
      "cell_type": "markdown",
      "source": [
        "Reading the DataSet"
      ],
      "metadata": {
        "id": "GiWCahpdZzPg"
      }
    },
    {
      "cell_type": "code",
      "source": [
        "from google.colab import drive\n",
        "drive.mount('/content/Files')\n",
        "path = '/content/Files/MyDrive/'"
      ],
      "metadata": {
        "colab": {
          "base_uri": "https://localhost:8080/"
        },
        "id": "GmoUyt9osw2i",
        "outputId": "77ab9afc-9da3-4e96-8b77-5a62681efbcb"
      },
      "execution_count": null,
      "outputs": [
        {
          "output_type": "stream",
          "name": "stdout",
          "text": [
            "Mounted at /content/Files\n"
          ]
        }
      ]
    },
    {
      "cell_type": "code",
      "source": [
        "dataset = pd.read_csv(path+'shampoo_sales.csv') # reading our data\n",
        "X=dataset.iloc[:,:-1].values # taking the first column in X\n",
        "y=dataset.iloc[:,1].values   # taking the second column in y\n",
        "labelencoder_X=LabelEncoder() # encoder used to convert from strings to numbers\n",
        "X[ : , 0]=labelencoder_X.fit_transform(X[ : , 0]) # converting the month column from string to number from (1 to 36) months"
      ],
      "metadata": {
        "id": "36jGiB7gVxqq"
      },
      "execution_count": null,
      "outputs": []
    },
    {
      "cell_type": "markdown",
      "source": [
        "Splitting the dataset into the Training set and Test set"
      ],
      "metadata": {
        "id": "o9--RSpMaKK6"
      }
    },
    {
      "cell_type": "code",
      "source": [
        "X_train,X_test,y_train,y_test=train_test_split(X,y,test_size=.4,random_state=13) # splitting the dataset into training and testing data"
      ],
      "metadata": {
        "id": "D3aQP2ESVyRE"
      },
      "execution_count": null,
      "outputs": []
    },
    {
      "cell_type": "code",
      "source": [
        "regressor = LinearRegression() # Our Linear Regression Model\n",
        "regressor.fit(X_train, y_train) # fitting the model on the training data"
      ],
      "metadata": {
        "colab": {
          "base_uri": "https://localhost:8080/"
        },
        "id": "fmC84FPGave4",
        "outputId": "54c954e6-8bc8-4ecf-fb19-a673c3be60c7"
      },
      "execution_count": null,
      "outputs": [
        {
          "output_type": "execute_result",
          "data": {
            "text/plain": [
              "LinearRegression()"
            ]
          },
          "metadata": {},
          "execution_count": 5
        }
      ]
    },
    {
      "cell_type": "code",
      "source": [
        "y_pred = regressor.predict(X_test) # predict on the testing data\n",
        "y_pred_train = regressor.predict(X_train) # predict on the training data\n",
        "print(\"y_pred\",y_pred)\n",
        "print(\"y_test\",y_test)\n",
        "mean_squared_error(y_pred,y_test) # calculating the MSE of the data"
      ],
      "metadata": {
        "colab": {
          "base_uri": "https://localhost:8080/"
        },
        "id": "gsaK08XVbEUi",
        "outputId": "9a0c8c91-f351-41ca-a3d6-57798edf5195"
      },
      "execution_count": null,
      "outputs": [
        {
          "output_type": "stream",
          "name": "stdout",
          "text": [
            "y_pred [184.55252137 398.42718628 291.48985383 441.20211927 419.81465277\n",
            " 451.89585251 152.47132163 366.34598655 270.10238733 334.26478681\n",
            " 195.24625462 483.97705225 120.3901219  462.58958576 355.6522533 ]\n",
            "y_test [224.5 439.3 287.  407.6 437.4 682.  180.3 339.7 273.3 421.6 192.8 646.9\n",
            " 145.9 475.3 342.3]\n"
          ]
        },
        {
          "output_type": "execute_result",
          "data": {
            "text/plain": [
              "6289.025510587087"
            ]
          },
          "metadata": {},
          "execution_count": 6
        }
      ]
    },
    {
      "cell_type": "code",
      "source": [
        "# plotting the model with the training data\n",
        "plt.scatter(X_train,y_train,color='dodgerblue')\n",
        "plt.plot(X_train,y_pred_train,color='orange')\n",
        "plt.title('Dummy shampoo Sales prediction')\n",
        "plt.xlabel('Months')\n",
        "plt.ylabel('Sales')\n",
        "plt.show()"
      ],
      "metadata": {
        "colab": {
          "base_uri": "https://localhost:8080/",
          "height": 295
        },
        "id": "by22HjaDyj4t",
        "outputId": "944774b2-c232-4796-cd1d-042116902e69"
      },
      "execution_count": null,
      "outputs": [
        {
          "output_type": "display_data",
          "data": {
            "text/plain": [
              "<Figure size 432x288 with 1 Axes>"
            ],
            "image/png": "[encoded data removed]"
          },
          "metadata": {
            "needs_background": "light"
          }
        }
      ]
    },
    {
      "cell_type": "code",
      "source": [
        "# plotting the model with the test data\n",
        "plt.scatter(X_test,y_test,color='dodgerblue')\n",
        "plt.plot(X_train,y_pred_train,color='orange')\n",
        "print(y_pred)\n",
        "plt.title('Dummy shampoo Sales prediction')\n",
        "plt.xlabel('Months')\n",
        "plt.ylabel('Sales')\n",
        "plt.show()"
      ],
      "metadata": {
        "colab": {
          "base_uri": "https://localhost:8080/",
          "height": 347
        },
        "id": "1_unk72b7Tsz",
        "outputId": "c4e1e8a7-16ed-4351-96b7-60537020447e"
      },
      "execution_count": null,
      "outputs": [
        {
          "output_type": "stream",
          "name": "stdout",
          "text": [
            "[184.55252137 398.42718628 291.48985383 441.20211927 419.81465277\n",
            " 451.89585251 152.47132163 366.34598655 270.10238733 334.26478681\n",
            " 195.24625462 483.97705225 120.3901219  462.58958576 355.6522533 ]\n"
          ]
        },
        {
          "output_type": "display_data",
          "data": {
            "text/plain": [
              "<Figure size 432x288 with 1 Axes>"
            ],
            "image/png": "[encoded data removed]"
          },
          "metadata": {
            "needs_background": "light"
          }
        }
      ]
    },
    {
      "cell_type": "code",
      "source": [
        "# Predict sales in future months (enter the number of month from 36)\n",
        "new_pred=regressor.predict([[40]])\n",
        "print(new_pred)"
      ],
      "metadata": {
        "colab": {
          "base_uri": "https://localhost:8080/"
        },
        "id": "wYNvcrw5Wmtc",
        "outputId": "c0d234b1-1126-4097-ecce-552790df2f96"
      },
      "execution_count": null,
      "outputs": [
        {
          "output_type": "stream",
          "name": "stdout",
          "text": [
            "[537.44571848]\n"
          ]
        }
      ]
    }
  ]
}
